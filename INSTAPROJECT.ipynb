{
 "cells": [
  {
   "cell_type": "code",
   "execution_count": 27,
   "id": "d3f84a1d",
   "metadata": {},
   "outputs": [],
   "source": [
    "import pandas as pd"
   ]
  },
  {
   "cell_type": "code",
   "execution_count": 28,
   "id": "3e5dcba1",
   "metadata": {},
   "outputs": [],
   "source": [
    "df=pd.read_csv(r\"C:\\Users\\Administrator\\Downloads\\comments.csv\")"
   ]
  },
  {
   "cell_type": "code",
   "execution_count": 29,
   "id": "f7b0ad90",
   "metadata": {},
   "outputs": [
    {
     "data": {
      "text/html": [
       "<div>\n",
       "<style scoped>\n",
       "    .dataframe tbody tr th:only-of-type {\n",
       "        vertical-align: middle;\n",
       "    }\n",
       "\n",
       "    .dataframe tbody tr th {\n",
       "        vertical-align: top;\n",
       "    }\n",
       "\n",
       "    .dataframe thead th {\n",
       "        text-align: right;\n",
       "    }\n",
       "</style>\n",
       "<table border=\"1\" class=\"dataframe\">\n",
       "  <thead>\n",
       "    <tr style=\"text-align: right;\">\n",
       "      <th></th>\n",
       "      <th>id</th>\n",
       "      <th>comment</th>\n",
       "      <th>User  id</th>\n",
       "      <th>Photo id</th>\n",
       "      <th>created Timestamp</th>\n",
       "      <th>posted date</th>\n",
       "      <th>emoji used</th>\n",
       "      <th>Hashtags used count</th>\n",
       "    </tr>\n",
       "  </thead>\n",
       "  <tbody>\n",
       "    <tr>\n",
       "      <th>0</th>\n",
       "      <td>1</td>\n",
       "      <td>unde at dolorem</td>\n",
       "      <td>2</td>\n",
       "      <td>1</td>\n",
       "      <td>13-04-2023 08:04</td>\n",
       "      <td>April 14</td>\n",
       "      <td>yes</td>\n",
       "      <td>1</td>\n",
       "    </tr>\n",
       "    <tr>\n",
       "      <th>1</th>\n",
       "      <td>2</td>\n",
       "      <td>quae ea ducimus</td>\n",
       "      <td>3</td>\n",
       "      <td>1</td>\n",
       "      <td>13-04-2023 08:04</td>\n",
       "      <td>April 14</td>\n",
       "      <td>no</td>\n",
       "      <td>2</td>\n",
       "    </tr>\n",
       "    <tr>\n",
       "      <th>2</th>\n",
       "      <td>3</td>\n",
       "      <td>alias a voluptatum</td>\n",
       "      <td>5</td>\n",
       "      <td>1</td>\n",
       "      <td>13-04-2023 08:04</td>\n",
       "      <td>April 14</td>\n",
       "      <td>no</td>\n",
       "      <td>4</td>\n",
       "    </tr>\n",
       "    <tr>\n",
       "      <th>3</th>\n",
       "      <td>4</td>\n",
       "      <td>facere suscipit sunt</td>\n",
       "      <td>14</td>\n",
       "      <td>1</td>\n",
       "      <td>13-04-2023 08:04</td>\n",
       "      <td>April 14</td>\n",
       "      <td>yes</td>\n",
       "      <td>2</td>\n",
       "    </tr>\n",
       "    <tr>\n",
       "      <th>4</th>\n",
       "      <td>5</td>\n",
       "      <td>totam eligendi quaerat</td>\n",
       "      <td>17</td>\n",
       "      <td>1</td>\n",
       "      <td>13-04-2023 08:04</td>\n",
       "      <td>April 14</td>\n",
       "      <td>yes</td>\n",
       "      <td>1</td>\n",
       "    </tr>\n",
       "    <tr>\n",
       "      <th>...</th>\n",
       "      <td>...</td>\n",
       "      <td>...</td>\n",
       "      <td>...</td>\n",
       "      <td>...</td>\n",
       "      <td>...</td>\n",
       "      <td>...</td>\n",
       "      <td>...</td>\n",
       "      <td>...</td>\n",
       "    </tr>\n",
       "    <tr>\n",
       "      <th>7483</th>\n",
       "      <td>7484</td>\n",
       "      <td>accusamus vel est</td>\n",
       "      <td>82</td>\n",
       "      <td>257</td>\n",
       "      <td>13-04-2023 08:04</td>\n",
       "      <td>April 14</td>\n",
       "      <td>no</td>\n",
       "      <td>5</td>\n",
       "    </tr>\n",
       "    <tr>\n",
       "      <th>7484</th>\n",
       "      <td>7485</td>\n",
       "      <td>sit nulla qui</td>\n",
       "      <td>91</td>\n",
       "      <td>257</td>\n",
       "      <td>13-04-2023 08:04</td>\n",
       "      <td>April 14</td>\n",
       "      <td>no</td>\n",
       "      <td>6</td>\n",
       "    </tr>\n",
       "    <tr>\n",
       "      <th>7485</th>\n",
       "      <td>7486</td>\n",
       "      <td>sed quidem vitae</td>\n",
       "      <td>93</td>\n",
       "      <td>257</td>\n",
       "      <td>13-04-2023 08:04</td>\n",
       "      <td>April 14</td>\n",
       "      <td>yes</td>\n",
       "      <td>2</td>\n",
       "    </tr>\n",
       "    <tr>\n",
       "      <th>7486</th>\n",
       "      <td>7487</td>\n",
       "      <td>dolorem eveniet rerum</td>\n",
       "      <td>95</td>\n",
       "      <td>257</td>\n",
       "      <td>13-04-2023 08:04</td>\n",
       "      <td>April 14</td>\n",
       "      <td>yes</td>\n",
       "      <td>1</td>\n",
       "    </tr>\n",
       "    <tr>\n",
       "      <th>7487</th>\n",
       "      <td>7488</td>\n",
       "      <td>dolores nihil voluptas</td>\n",
       "      <td>96</td>\n",
       "      <td>257</td>\n",
       "      <td>13-04-2023 08:04</td>\n",
       "      <td>April 14</td>\n",
       "      <td>no</td>\n",
       "      <td>3</td>\n",
       "    </tr>\n",
       "  </tbody>\n",
       "</table>\n",
       "<p>7488 rows × 8 columns</p>\n",
       "</div>"
      ],
      "text/plain": [
       "        id                 comment  User  id  Photo id created Timestamp  \\\n",
       "0        1         unde at dolorem         2         1  13-04-2023 08:04   \n",
       "1        2         quae ea ducimus         3         1  13-04-2023 08:04   \n",
       "2        3      alias a voluptatum         5         1  13-04-2023 08:04   \n",
       "3        4    facere suscipit sunt        14         1  13-04-2023 08:04   \n",
       "4        5  totam eligendi quaerat        17         1  13-04-2023 08:04   \n",
       "...    ...                     ...       ...       ...               ...   \n",
       "7483  7484       accusamus vel est        82       257  13-04-2023 08:04   \n",
       "7484  7485           sit nulla qui        91       257  13-04-2023 08:04   \n",
       "7485  7486        sed quidem vitae        93       257  13-04-2023 08:04   \n",
       "7486  7487   dolorem eveniet rerum        95       257  13-04-2023 08:04   \n",
       "7487  7488  dolores nihil voluptas        96       257  13-04-2023 08:04   \n",
       "\n",
       "     posted date emoji used  Hashtags used count  \n",
       "0       April 14        yes                    1  \n",
       "1       April 14         no                    2  \n",
       "2       April 14         no                    4  \n",
       "3       April 14        yes                    2  \n",
       "4       April 14        yes                    1  \n",
       "...          ...        ...                  ...  \n",
       "7483    April 14         no                    5  \n",
       "7484    April 14         no                    6  \n",
       "7485    April 14        yes                    2  \n",
       "7486    April 14        yes                    1  \n",
       "7487    April 14         no                    3  \n",
       "\n",
       "[7488 rows x 8 columns]"
      ]
     },
     "execution_count": 29,
     "metadata": {},
     "output_type": "execute_result"
    }
   ],
   "source": [
    "df"
   ]
  },
  {
   "cell_type": "code",
   "execution_count": 30,
   "id": "0b467d4a",
   "metadata": {},
   "outputs": [],
   "source": [
    "comments_data=df"
   ]
  },
  {
   "cell_type": "code",
   "execution_count": 31,
   "id": "1204e032",
   "metadata": {},
   "outputs": [
    {
     "data": {
      "text/html": [
       "<div>\n",
       "<style scoped>\n",
       "    .dataframe tbody tr th:only-of-type {\n",
       "        vertical-align: middle;\n",
       "    }\n",
       "\n",
       "    .dataframe tbody tr th {\n",
       "        vertical-align: top;\n",
       "    }\n",
       "\n",
       "    .dataframe thead th {\n",
       "        text-align: right;\n",
       "    }\n",
       "</style>\n",
       "<table border=\"1\" class=\"dataframe\">\n",
       "  <thead>\n",
       "    <tr style=\"text-align: right;\">\n",
       "      <th></th>\n",
       "      <th>id</th>\n",
       "      <th>comment</th>\n",
       "      <th>User  id</th>\n",
       "      <th>Photo id</th>\n",
       "      <th>created Timestamp</th>\n",
       "      <th>posted date</th>\n",
       "      <th>emoji used</th>\n",
       "      <th>Hashtags used count</th>\n",
       "    </tr>\n",
       "  </thead>\n",
       "  <tbody>\n",
       "    <tr>\n",
       "      <th>0</th>\n",
       "      <td>1</td>\n",
       "      <td>unde at dolorem</td>\n",
       "      <td>2</td>\n",
       "      <td>1</td>\n",
       "      <td>13-04-2023 08:04</td>\n",
       "      <td>April 14</td>\n",
       "      <td>yes</td>\n",
       "      <td>1</td>\n",
       "    </tr>\n",
       "    <tr>\n",
       "      <th>1</th>\n",
       "      <td>2</td>\n",
       "      <td>quae ea ducimus</td>\n",
       "      <td>3</td>\n",
       "      <td>1</td>\n",
       "      <td>13-04-2023 08:04</td>\n",
       "      <td>April 14</td>\n",
       "      <td>no</td>\n",
       "      <td>2</td>\n",
       "    </tr>\n",
       "    <tr>\n",
       "      <th>2</th>\n",
       "      <td>3</td>\n",
       "      <td>alias a voluptatum</td>\n",
       "      <td>5</td>\n",
       "      <td>1</td>\n",
       "      <td>13-04-2023 08:04</td>\n",
       "      <td>April 14</td>\n",
       "      <td>no</td>\n",
       "      <td>4</td>\n",
       "    </tr>\n",
       "    <tr>\n",
       "      <th>3</th>\n",
       "      <td>4</td>\n",
       "      <td>facere suscipit sunt</td>\n",
       "      <td>14</td>\n",
       "      <td>1</td>\n",
       "      <td>13-04-2023 08:04</td>\n",
       "      <td>April 14</td>\n",
       "      <td>yes</td>\n",
       "      <td>2</td>\n",
       "    </tr>\n",
       "    <tr>\n",
       "      <th>4</th>\n",
       "      <td>5</td>\n",
       "      <td>totam eligendi quaerat</td>\n",
       "      <td>17</td>\n",
       "      <td>1</td>\n",
       "      <td>13-04-2023 08:04</td>\n",
       "      <td>April 14</td>\n",
       "      <td>yes</td>\n",
       "      <td>1</td>\n",
       "    </tr>\n",
       "    <tr>\n",
       "      <th>...</th>\n",
       "      <td>...</td>\n",
       "      <td>...</td>\n",
       "      <td>...</td>\n",
       "      <td>...</td>\n",
       "      <td>...</td>\n",
       "      <td>...</td>\n",
       "      <td>...</td>\n",
       "      <td>...</td>\n",
       "    </tr>\n",
       "    <tr>\n",
       "      <th>7483</th>\n",
       "      <td>7484</td>\n",
       "      <td>accusamus vel est</td>\n",
       "      <td>82</td>\n",
       "      <td>257</td>\n",
       "      <td>13-04-2023 08:04</td>\n",
       "      <td>April 14</td>\n",
       "      <td>no</td>\n",
       "      <td>5</td>\n",
       "    </tr>\n",
       "    <tr>\n",
       "      <th>7484</th>\n",
       "      <td>7485</td>\n",
       "      <td>sit nulla qui</td>\n",
       "      <td>91</td>\n",
       "      <td>257</td>\n",
       "      <td>13-04-2023 08:04</td>\n",
       "      <td>April 14</td>\n",
       "      <td>no</td>\n",
       "      <td>6</td>\n",
       "    </tr>\n",
       "    <tr>\n",
       "      <th>7485</th>\n",
       "      <td>7486</td>\n",
       "      <td>sed quidem vitae</td>\n",
       "      <td>93</td>\n",
       "      <td>257</td>\n",
       "      <td>13-04-2023 08:04</td>\n",
       "      <td>April 14</td>\n",
       "      <td>yes</td>\n",
       "      <td>2</td>\n",
       "    </tr>\n",
       "    <tr>\n",
       "      <th>7486</th>\n",
       "      <td>7487</td>\n",
       "      <td>dolorem eveniet rerum</td>\n",
       "      <td>95</td>\n",
       "      <td>257</td>\n",
       "      <td>13-04-2023 08:04</td>\n",
       "      <td>April 14</td>\n",
       "      <td>yes</td>\n",
       "      <td>1</td>\n",
       "    </tr>\n",
       "    <tr>\n",
       "      <th>7487</th>\n",
       "      <td>7488</td>\n",
       "      <td>dolores nihil voluptas</td>\n",
       "      <td>96</td>\n",
       "      <td>257</td>\n",
       "      <td>13-04-2023 08:04</td>\n",
       "      <td>April 14</td>\n",
       "      <td>no</td>\n",
       "      <td>3</td>\n",
       "    </tr>\n",
       "  </tbody>\n",
       "</table>\n",
       "<p>7488 rows × 8 columns</p>\n",
       "</div>"
      ],
      "text/plain": [
       "        id                 comment  User  id  Photo id created Timestamp  \\\n",
       "0        1         unde at dolorem         2         1  13-04-2023 08:04   \n",
       "1        2         quae ea ducimus         3         1  13-04-2023 08:04   \n",
       "2        3      alias a voluptatum         5         1  13-04-2023 08:04   \n",
       "3        4    facere suscipit sunt        14         1  13-04-2023 08:04   \n",
       "4        5  totam eligendi quaerat        17         1  13-04-2023 08:04   \n",
       "...    ...                     ...       ...       ...               ...   \n",
       "7483  7484       accusamus vel est        82       257  13-04-2023 08:04   \n",
       "7484  7485           sit nulla qui        91       257  13-04-2023 08:04   \n",
       "7485  7486        sed quidem vitae        93       257  13-04-2023 08:04   \n",
       "7486  7487   dolorem eveniet rerum        95       257  13-04-2023 08:04   \n",
       "7487  7488  dolores nihil voluptas        96       257  13-04-2023 08:04   \n",
       "\n",
       "     posted date emoji used  Hashtags used count  \n",
       "0       April 14        yes                    1  \n",
       "1       April 14         no                    2  \n",
       "2       April 14         no                    4  \n",
       "3       April 14        yes                    2  \n",
       "4       April 14        yes                    1  \n",
       "...          ...        ...                  ...  \n",
       "7483    April 14         no                    5  \n",
       "7484    April 14         no                    6  \n",
       "7485    April 14        yes                    2  \n",
       "7486    April 14        yes                    1  \n",
       "7487    April 14         no                    3  \n",
       "\n",
       "[7488 rows x 8 columns]"
      ]
     },
     "execution_count": 31,
     "metadata": {},
     "output_type": "execute_result"
    }
   ],
   "source": [
    "comments_data"
   ]
  },
  {
   "cell_type": "code",
   "execution_count": 32,
   "id": "89521c21",
   "metadata": {},
   "outputs": [
    {
     "data": {
      "text/plain": [
       "Index(['id', 'comment', 'User  id', 'Photo id', 'created Timestamp',\n",
       "       'posted date', 'emoji used', 'Hashtags used count'],\n",
       "      dtype='object')"
      ]
     },
     "execution_count": 32,
     "metadata": {},
     "output_type": "execute_result"
    }
   ],
   "source": [
    "comments_data.columns"
   ]
  },
  {
   "cell_type": "markdown",
   "id": "51821040",
   "metadata": {},
   "source": [
    "# def data_cleaning():\n",
    "    #DO NOT REMOVE FOLLOWING LINE\n",
    "    #call remove_unwanted_columns() function to get dataframe\n",
    "    comments=read_data_from_csv()\n",
    "\n",
    "    #Remove Unwanted columns\n",
    "    #id\tcomment\tUser  id\tPhoto id\tcreated Timestamp\tposted date\temoji used\tHashtags used count\n",
    "    column_name={'id':'id','comment':'comment_text','User  id':'user_id','Photo id': 'photo_id','created Timestamp':'created_at'}  #df = df.drop('B', axis=1)\n",
    "     #df = df.drop(['posted date', 'emoji used', 'Hashtags used count'], axis=1) \\\n",
    "    \n",
    "    \n",
    "    \n",
    "    #rename columns, only these columns are allowed in the dataset\n",
    "    # 1.\tid\n",
    "    # 2.\tcomment_text\n",
    "    # 3.\tuser_id\n",
    "    # 4.\tphoto_id\n",
    "    # 5.\tcreated_at\n",
    "    \n",
    "    #export cleaned Dataset to newcsv file named \"comments_cleaned.csv\"\n",
    "    comments.to_csv('comments_cleaned.csv')\n",
    "    return comments\n",
    "\n",
    "\n",
    "#Do not Delete the Following function\n",
    "def task_runner():\n",
    "    data_cleaning()\n",
    "\n",
    "task_runner()"
   ]
  },
  {
   "cell_type": "code",
   "execution_count": 33,
   "id": "4432e8d2",
   "metadata": {},
   "outputs": [
    {
     "data": {
      "text/plain": [
       "Index(['id', 'comment', 'User  id', 'Photo id', 'created Timestamp',\n",
       "       'posted date', 'emoji used', 'Hashtags used count'],\n",
       "      dtype='object')"
      ]
     },
     "execution_count": 33,
     "metadata": {},
     "output_type": "execute_result"
    }
   ],
   "source": [
    "df.columns"
   ]
  },
  {
   "cell_type": "code",
   "execution_count": 34,
   "id": "e3d94863",
   "metadata": {},
   "outputs": [
    {
     "data": {
      "text/plain": [
       "id                      int64\n",
       "comment                object\n",
       "User  id                int64\n",
       "Photo id                int64\n",
       "created Timestamp      object\n",
       "posted date            object\n",
       "emoji used             object\n",
       "Hashtags used count     int64\n",
       "dtype: object"
      ]
     },
     "execution_count": 34,
     "metadata": {},
     "output_type": "execute_result"
    }
   ],
   "source": [
    "comments_data.dtypes"
   ]
  },
  {
   "cell_type": "code",
   "execution_count": 35,
   "id": "edb61cd7",
   "metadata": {},
   "outputs": [],
   "source": [
    "comments_data=comments_data.drop(['posted date','emoji used','Hashtags used count'],axis=1)"
   ]
  },
  {
   "cell_type": "code",
   "execution_count": 36,
   "id": "a38f54a0",
   "metadata": {},
   "outputs": [
    {
     "data": {
      "text/html": [
       "<div>\n",
       "<style scoped>\n",
       "    .dataframe tbody tr th:only-of-type {\n",
       "        vertical-align: middle;\n",
       "    }\n",
       "\n",
       "    .dataframe tbody tr th {\n",
       "        vertical-align: top;\n",
       "    }\n",
       "\n",
       "    .dataframe thead th {\n",
       "        text-align: right;\n",
       "    }\n",
       "</style>\n",
       "<table border=\"1\" class=\"dataframe\">\n",
       "  <thead>\n",
       "    <tr style=\"text-align: right;\">\n",
       "      <th></th>\n",
       "      <th>id</th>\n",
       "      <th>comment</th>\n",
       "      <th>User  id</th>\n",
       "      <th>Photo id</th>\n",
       "      <th>created Timestamp</th>\n",
       "    </tr>\n",
       "  </thead>\n",
       "  <tbody>\n",
       "    <tr>\n",
       "      <th>0</th>\n",
       "      <td>1</td>\n",
       "      <td>unde at dolorem</td>\n",
       "      <td>2</td>\n",
       "      <td>1</td>\n",
       "      <td>13-04-2023 08:04</td>\n",
       "    </tr>\n",
       "    <tr>\n",
       "      <th>1</th>\n",
       "      <td>2</td>\n",
       "      <td>quae ea ducimus</td>\n",
       "      <td>3</td>\n",
       "      <td>1</td>\n",
       "      <td>13-04-2023 08:04</td>\n",
       "    </tr>\n",
       "    <tr>\n",
       "      <th>2</th>\n",
       "      <td>3</td>\n",
       "      <td>alias a voluptatum</td>\n",
       "      <td>5</td>\n",
       "      <td>1</td>\n",
       "      <td>13-04-2023 08:04</td>\n",
       "    </tr>\n",
       "    <tr>\n",
       "      <th>3</th>\n",
       "      <td>4</td>\n",
       "      <td>facere suscipit sunt</td>\n",
       "      <td>14</td>\n",
       "      <td>1</td>\n",
       "      <td>13-04-2023 08:04</td>\n",
       "    </tr>\n",
       "    <tr>\n",
       "      <th>4</th>\n",
       "      <td>5</td>\n",
       "      <td>totam eligendi quaerat</td>\n",
       "      <td>17</td>\n",
       "      <td>1</td>\n",
       "      <td>13-04-2023 08:04</td>\n",
       "    </tr>\n",
       "    <tr>\n",
       "      <th>...</th>\n",
       "      <td>...</td>\n",
       "      <td>...</td>\n",
       "      <td>...</td>\n",
       "      <td>...</td>\n",
       "      <td>...</td>\n",
       "    </tr>\n",
       "    <tr>\n",
       "      <th>7483</th>\n",
       "      <td>7484</td>\n",
       "      <td>accusamus vel est</td>\n",
       "      <td>82</td>\n",
       "      <td>257</td>\n",
       "      <td>13-04-2023 08:04</td>\n",
       "    </tr>\n",
       "    <tr>\n",
       "      <th>7484</th>\n",
       "      <td>7485</td>\n",
       "      <td>sit nulla qui</td>\n",
       "      <td>91</td>\n",
       "      <td>257</td>\n",
       "      <td>13-04-2023 08:04</td>\n",
       "    </tr>\n",
       "    <tr>\n",
       "      <th>7485</th>\n",
       "      <td>7486</td>\n",
       "      <td>sed quidem vitae</td>\n",
       "      <td>93</td>\n",
       "      <td>257</td>\n",
       "      <td>13-04-2023 08:04</td>\n",
       "    </tr>\n",
       "    <tr>\n",
       "      <th>7486</th>\n",
       "      <td>7487</td>\n",
       "      <td>dolorem eveniet rerum</td>\n",
       "      <td>95</td>\n",
       "      <td>257</td>\n",
       "      <td>13-04-2023 08:04</td>\n",
       "    </tr>\n",
       "    <tr>\n",
       "      <th>7487</th>\n",
       "      <td>7488</td>\n",
       "      <td>dolores nihil voluptas</td>\n",
       "      <td>96</td>\n",
       "      <td>257</td>\n",
       "      <td>13-04-2023 08:04</td>\n",
       "    </tr>\n",
       "  </tbody>\n",
       "</table>\n",
       "<p>7488 rows × 5 columns</p>\n",
       "</div>"
      ],
      "text/plain": [
       "        id                 comment  User  id  Photo id created Timestamp\n",
       "0        1         unde at dolorem         2         1  13-04-2023 08:04\n",
       "1        2         quae ea ducimus         3         1  13-04-2023 08:04\n",
       "2        3      alias a voluptatum         5         1  13-04-2023 08:04\n",
       "3        4    facere suscipit sunt        14         1  13-04-2023 08:04\n",
       "4        5  totam eligendi quaerat        17         1  13-04-2023 08:04\n",
       "...    ...                     ...       ...       ...               ...\n",
       "7483  7484       accusamus vel est        82       257  13-04-2023 08:04\n",
       "7484  7485           sit nulla qui        91       257  13-04-2023 08:04\n",
       "7485  7486        sed quidem vitae        93       257  13-04-2023 08:04\n",
       "7486  7487   dolorem eveniet rerum        95       257  13-04-2023 08:04\n",
       "7487  7488  dolores nihil voluptas        96       257  13-04-2023 08:04\n",
       "\n",
       "[7488 rows x 5 columns]"
      ]
     },
     "execution_count": 36,
     "metadata": {},
     "output_type": "execute_result"
    }
   ],
   "source": [
    "comments_data"
   ]
  },
  {
   "cell_type": "code",
   "execution_count": 37,
   "id": "e969f661",
   "metadata": {},
   "outputs": [
    {
     "data": {
      "text/plain": [
       "Index(['id', 'comment', 'User  id', 'Photo id', 'created Timestamp'], dtype='object')"
      ]
     },
     "execution_count": 37,
     "metadata": {},
     "output_type": "execute_result"
    }
   ],
   "source": [
    "comments_data.columns"
   ]
  },
  {
   "cell_type": "code",
   "execution_count": 38,
   "id": "5312dddf",
   "metadata": {},
   "outputs": [],
   "source": [
    "comments_columns={'id':'id','comment':'comment_text','User  id':'user_id','Photo id':'photo_id','created Timestamp':'created_at'}\n",
    "###id\n",
    "    # 2.\tcomment_text\n",
    "    # 3.\tuser_id\n",
    "    # 4.\tphoto_id\n",
    "    # 5.\tcreated_at"
   ]
  },
  {
   "cell_type": "code",
   "execution_count": 39,
   "id": "48075026",
   "metadata": {},
   "outputs": [
    {
     "data": {
      "text/plain": [
       "{'id': 'id',\n",
       " 'comment': 'comment_text',\n",
       " 'User  id': 'user_id',\n",
       " 'Photo id': 'photo_id',\n",
       " 'created Timestamp': 'created_at'}"
      ]
     },
     "execution_count": 39,
     "metadata": {},
     "output_type": "execute_result"
    }
   ],
   "source": [
    "comments_columns"
   ]
  },
  {
   "cell_type": "code",
   "execution_count": 40,
   "id": "26be2801",
   "metadata": {},
   "outputs": [],
   "source": [
    "comments_data=comments_data.rename(columns=comments_columns)"
   ]
  },
  {
   "cell_type": "code",
   "execution_count": 41,
   "id": "65851f66",
   "metadata": {},
   "outputs": [
    {
     "data": {
      "text/html": [
       "<div>\n",
       "<style scoped>\n",
       "    .dataframe tbody tr th:only-of-type {\n",
       "        vertical-align: middle;\n",
       "    }\n",
       "\n",
       "    .dataframe tbody tr th {\n",
       "        vertical-align: top;\n",
       "    }\n",
       "\n",
       "    .dataframe thead th {\n",
       "        text-align: right;\n",
       "    }\n",
       "</style>\n",
       "<table border=\"1\" class=\"dataframe\">\n",
       "  <thead>\n",
       "    <tr style=\"text-align: right;\">\n",
       "      <th></th>\n",
       "      <th>id</th>\n",
       "      <th>comment_text</th>\n",
       "      <th>user_id</th>\n",
       "      <th>photo_id</th>\n",
       "      <th>created_at</th>\n",
       "    </tr>\n",
       "  </thead>\n",
       "  <tbody>\n",
       "    <tr>\n",
       "      <th>0</th>\n",
       "      <td>1</td>\n",
       "      <td>unde at dolorem</td>\n",
       "      <td>2</td>\n",
       "      <td>1</td>\n",
       "      <td>13-04-2023 08:04</td>\n",
       "    </tr>\n",
       "    <tr>\n",
       "      <th>1</th>\n",
       "      <td>2</td>\n",
       "      <td>quae ea ducimus</td>\n",
       "      <td>3</td>\n",
       "      <td>1</td>\n",
       "      <td>13-04-2023 08:04</td>\n",
       "    </tr>\n",
       "    <tr>\n",
       "      <th>2</th>\n",
       "      <td>3</td>\n",
       "      <td>alias a voluptatum</td>\n",
       "      <td>5</td>\n",
       "      <td>1</td>\n",
       "      <td>13-04-2023 08:04</td>\n",
       "    </tr>\n",
       "    <tr>\n",
       "      <th>3</th>\n",
       "      <td>4</td>\n",
       "      <td>facere suscipit sunt</td>\n",
       "      <td>14</td>\n",
       "      <td>1</td>\n",
       "      <td>13-04-2023 08:04</td>\n",
       "    </tr>\n",
       "    <tr>\n",
       "      <th>4</th>\n",
       "      <td>5</td>\n",
       "      <td>totam eligendi quaerat</td>\n",
       "      <td>17</td>\n",
       "      <td>1</td>\n",
       "      <td>13-04-2023 08:04</td>\n",
       "    </tr>\n",
       "    <tr>\n",
       "      <th>...</th>\n",
       "      <td>...</td>\n",
       "      <td>...</td>\n",
       "      <td>...</td>\n",
       "      <td>...</td>\n",
       "      <td>...</td>\n",
       "    </tr>\n",
       "    <tr>\n",
       "      <th>7483</th>\n",
       "      <td>7484</td>\n",
       "      <td>accusamus vel est</td>\n",
       "      <td>82</td>\n",
       "      <td>257</td>\n",
       "      <td>13-04-2023 08:04</td>\n",
       "    </tr>\n",
       "    <tr>\n",
       "      <th>7484</th>\n",
       "      <td>7485</td>\n",
       "      <td>sit nulla qui</td>\n",
       "      <td>91</td>\n",
       "      <td>257</td>\n",
       "      <td>13-04-2023 08:04</td>\n",
       "    </tr>\n",
       "    <tr>\n",
       "      <th>7485</th>\n",
       "      <td>7486</td>\n",
       "      <td>sed quidem vitae</td>\n",
       "      <td>93</td>\n",
       "      <td>257</td>\n",
       "      <td>13-04-2023 08:04</td>\n",
       "    </tr>\n",
       "    <tr>\n",
       "      <th>7486</th>\n",
       "      <td>7487</td>\n",
       "      <td>dolorem eveniet rerum</td>\n",
       "      <td>95</td>\n",
       "      <td>257</td>\n",
       "      <td>13-04-2023 08:04</td>\n",
       "    </tr>\n",
       "    <tr>\n",
       "      <th>7487</th>\n",
       "      <td>7488</td>\n",
       "      <td>dolores nihil voluptas</td>\n",
       "      <td>96</td>\n",
       "      <td>257</td>\n",
       "      <td>13-04-2023 08:04</td>\n",
       "    </tr>\n",
       "  </tbody>\n",
       "</table>\n",
       "<p>7488 rows × 5 columns</p>\n",
       "</div>"
      ],
      "text/plain": [
       "        id            comment_text  user_id  photo_id        created_at\n",
       "0        1         unde at dolorem        2         1  13-04-2023 08:04\n",
       "1        2         quae ea ducimus        3         1  13-04-2023 08:04\n",
       "2        3      alias a voluptatum        5         1  13-04-2023 08:04\n",
       "3        4    facere suscipit sunt       14         1  13-04-2023 08:04\n",
       "4        5  totam eligendi quaerat       17         1  13-04-2023 08:04\n",
       "...    ...                     ...      ...       ...               ...\n",
       "7483  7484       accusamus vel est       82       257  13-04-2023 08:04\n",
       "7484  7485           sit nulla qui       91       257  13-04-2023 08:04\n",
       "7485  7486        sed quidem vitae       93       257  13-04-2023 08:04\n",
       "7486  7487   dolorem eveniet rerum       95       257  13-04-2023 08:04\n",
       "7487  7488  dolores nihil voluptas       96       257  13-04-2023 08:04\n",
       "\n",
       "[7488 rows x 5 columns]"
      ]
     },
     "execution_count": 41,
     "metadata": {},
     "output_type": "execute_result"
    }
   ],
   "source": [
    "comments_data"
   ]
  },
  {
   "cell_type": "code",
   "execution_count": 42,
   "id": "e4c3d93e",
   "metadata": {},
   "outputs": [],
   "source": [
    "df=pd.read_csv(r\"C:\\Users\\Administrator\\Downloads\\follows.csv\")"
   ]
  },
  {
   "cell_type": "code",
   "execution_count": 43,
   "id": "838c5afb",
   "metadata": {},
   "outputs": [
    {
     "data": {
      "text/html": [
       "<div>\n",
       "<style scoped>\n",
       "    .dataframe tbody tr th:only-of-type {\n",
       "        vertical-align: middle;\n",
       "    }\n",
       "\n",
       "    .dataframe tbody tr th {\n",
       "        vertical-align: top;\n",
       "    }\n",
       "\n",
       "    .dataframe thead th {\n",
       "        text-align: right;\n",
       "    }\n",
       "</style>\n",
       "<table border=\"1\" class=\"dataframe\">\n",
       "  <thead>\n",
       "    <tr style=\"text-align: right;\">\n",
       "      <th></th>\n",
       "      <th>follower</th>\n",
       "      <th>followee</th>\n",
       "      <th>created time</th>\n",
       "      <th>is follower active</th>\n",
       "      <th>followee Acc status</th>\n",
       "    </tr>\n",
       "  </thead>\n",
       "  <tbody>\n",
       "    <tr>\n",
       "      <th>0</th>\n",
       "      <td>2</td>\n",
       "      <td>1</td>\n",
       "      <td>13-04-2023 08:04</td>\n",
       "      <td>1</td>\n",
       "      <td>Private</td>\n",
       "    </tr>\n",
       "    <tr>\n",
       "      <th>1</th>\n",
       "      <td>2</td>\n",
       "      <td>3</td>\n",
       "      <td>13-04-2023 08:04</td>\n",
       "      <td>0</td>\n",
       "      <td>private</td>\n",
       "    </tr>\n",
       "    <tr>\n",
       "      <th>2</th>\n",
       "      <td>2</td>\n",
       "      <td>4</td>\n",
       "      <td>13-04-2023 08:04</td>\n",
       "      <td>0</td>\n",
       "      <td>public</td>\n",
       "    </tr>\n",
       "    <tr>\n",
       "      <th>3</th>\n",
       "      <td>2</td>\n",
       "      <td>5</td>\n",
       "      <td>13-04-2023 08:04</td>\n",
       "      <td>0</td>\n",
       "      <td>private</td>\n",
       "    </tr>\n",
       "    <tr>\n",
       "      <th>4</th>\n",
       "      <td>2</td>\n",
       "      <td>6</td>\n",
       "      <td>13-04-2023 08:04</td>\n",
       "      <td>1</td>\n",
       "      <td>private</td>\n",
       "    </tr>\n",
       "    <tr>\n",
       "      <th>...</th>\n",
       "      <td>...</td>\n",
       "      <td>...</td>\n",
       "      <td>...</td>\n",
       "      <td>...</td>\n",
       "      <td>...</td>\n",
       "    </tr>\n",
       "    <tr>\n",
       "      <th>7618</th>\n",
       "      <td>100</td>\n",
       "      <td>95</td>\n",
       "      <td>13-04-2023 08:04</td>\n",
       "      <td>1</td>\n",
       "      <td>public</td>\n",
       "    </tr>\n",
       "    <tr>\n",
       "      <th>7619</th>\n",
       "      <td>100</td>\n",
       "      <td>96</td>\n",
       "      <td>13-04-2023 08:04</td>\n",
       "      <td>1</td>\n",
       "      <td>Private</td>\n",
       "    </tr>\n",
       "    <tr>\n",
       "      <th>7620</th>\n",
       "      <td>100</td>\n",
       "      <td>97</td>\n",
       "      <td>13-04-2023 08:04</td>\n",
       "      <td>1</td>\n",
       "      <td>private</td>\n",
       "    </tr>\n",
       "    <tr>\n",
       "      <th>7621</th>\n",
       "      <td>100</td>\n",
       "      <td>98</td>\n",
       "      <td>13-04-2023 08:04</td>\n",
       "      <td>1</td>\n",
       "      <td>public</td>\n",
       "    </tr>\n",
       "    <tr>\n",
       "      <th>7622</th>\n",
       "      <td>100</td>\n",
       "      <td>99</td>\n",
       "      <td>13-04-2023 08:04</td>\n",
       "      <td>1</td>\n",
       "      <td>private</td>\n",
       "    </tr>\n",
       "  </tbody>\n",
       "</table>\n",
       "<p>7623 rows × 5 columns</p>\n",
       "</div>"
      ],
      "text/plain": [
       "      follower  followee       created time  is follower active  \\\n",
       "0            2          1  13-04-2023 08:04                   1   \n",
       "1            2          3  13-04-2023 08:04                   0   \n",
       "2            2          4  13-04-2023 08:04                   0   \n",
       "3            2          5  13-04-2023 08:04                   0   \n",
       "4            2          6  13-04-2023 08:04                   1   \n",
       "...        ...        ...               ...                 ...   \n",
       "7618       100         95  13-04-2023 08:04                   1   \n",
       "7619       100         96  13-04-2023 08:04                   1   \n",
       "7620       100         97  13-04-2023 08:04                   1   \n",
       "7621       100         98  13-04-2023 08:04                   1   \n",
       "7622       100         99  13-04-2023 08:04                   1   \n",
       "\n",
       "     followee Acc status  \n",
       "0                Private  \n",
       "1                private  \n",
       "2                 public  \n",
       "3                private  \n",
       "4                private  \n",
       "...                  ...  \n",
       "7618              public  \n",
       "7619             Private  \n",
       "7620             private  \n",
       "7621              public  \n",
       "7622             private  \n",
       "\n",
       "[7623 rows x 5 columns]"
      ]
     },
     "execution_count": 43,
     "metadata": {},
     "output_type": "execute_result"
    }
   ],
   "source": [
    "df"
   ]
  },
  {
   "cell_type": "code",
   "execution_count": 44,
   "id": "9119e5a4",
   "metadata": {},
   "outputs": [],
   "source": [
    "##Remove Unwanted columns\n",
    "    \n",
    "    \n",
    "    \n",
    "    #rename columns, only these columns are allowed in the dataset\n",
    "    # 1.\tfollower_id\n",
    "    # 2.\tfollowee_id\n",
    "    # 3.\tcreated_at"
   ]
  },
  {
   "cell_type": "code",
   "execution_count": 45,
   "id": "ae18710d",
   "metadata": {},
   "outputs": [],
   "source": [
    "follows=df"
   ]
  },
  {
   "cell_type": "code",
   "execution_count": 46,
   "id": "2f61bb84",
   "metadata": {},
   "outputs": [
    {
     "data": {
      "text/plain": [
       "Index(['follower', 'followee ', 'created time', 'is follower active',\n",
       "       'followee Acc status'],\n",
       "      dtype='object')"
      ]
     },
     "execution_count": 46,
     "metadata": {},
     "output_type": "execute_result"
    }
   ],
   "source": [
    "follows.columns"
   ]
  },
  {
   "cell_type": "code",
   "execution_count": 47,
   "id": "34f9857d",
   "metadata": {},
   "outputs": [],
   "source": [
    "follows=follows.drop(['is follower active','followee Acc status'],axis=1)"
   ]
  },
  {
   "cell_type": "code",
   "execution_count": 48,
   "id": "6245023d",
   "metadata": {},
   "outputs": [],
   "source": [
    "follow_columns={'follower':'follower_id','followee ':'followee_id','created time':'created_at'}"
   ]
  },
  {
   "cell_type": "code",
   "execution_count": 49,
   "id": "06eac861",
   "metadata": {},
   "outputs": [
    {
     "data": {
      "text/plain": [
       "{'follower': 'follower_id',\n",
       " 'followee ': 'followee_id',\n",
       " 'created time': 'created_at'}"
      ]
     },
     "execution_count": 49,
     "metadata": {},
     "output_type": "execute_result"
    }
   ],
   "source": [
    "follow_columns"
   ]
  },
  {
   "cell_type": "code",
   "execution_count": 50,
   "id": "f6753fbc",
   "metadata": {},
   "outputs": [],
   "source": [
    "follows=follows.rename(columns=follow_columns)"
   ]
  },
  {
   "cell_type": "code",
   "execution_count": 51,
   "id": "d87d295a",
   "metadata": {},
   "outputs": [
    {
     "data": {
      "text/plain": [
       "Index(['follower_id', 'followee_id', 'created_at'], dtype='object')"
      ]
     },
     "execution_count": 51,
     "metadata": {},
     "output_type": "execute_result"
    }
   ],
   "source": [
    "follows.columns"
   ]
  },
  {
   "cell_type": "code",
   "execution_count": 52,
   "id": "ee3c9848",
   "metadata": {},
   "outputs": [],
   "source": [
    "df=pd.read_csv(r\"C:\\Users\\Administrator\\Downloads\\likes.csv\")"
   ]
  },
  {
   "cell_type": "code",
   "execution_count": 53,
   "id": "7c3d9ef4",
   "metadata": {},
   "outputs": [
    {
     "data": {
      "text/plain": [
       "Index(['user ', 'photo', 'created time', 'following or not', 'like type'], dtype='object')"
      ]
     },
     "execution_count": 53,
     "metadata": {},
     "output_type": "execute_result"
    }
   ],
   "source": [
    "likes=df\n",
    "likes.columns"
   ]
  },
  {
   "cell_type": "code",
   "execution_count": 54,
   "id": "ac4de261",
   "metadata": {},
   "outputs": [],
   "source": [
    "  # 1.\tuser_id\n",
    "    # 2.\tphoto_id\n",
    "    # 3.\tcreated_at"
   ]
  },
  {
   "cell_type": "code",
   "execution_count": 55,
   "id": "baba8cc2",
   "metadata": {},
   "outputs": [],
   "source": [
    "likes=likes.drop(['following or not','like type'],axis=1)"
   ]
  },
  {
   "cell_type": "code",
   "execution_count": 56,
   "id": "7653b5ee",
   "metadata": {},
   "outputs": [],
   "source": [
    "likes_columns={'user ':'user_id','photo':'photo_id','created time':'created_at'}\n"
   ]
  },
  {
   "cell_type": "code",
   "execution_count": 57,
   "id": "380e5854",
   "metadata": {},
   "outputs": [],
   "source": [
    "likes=likes.rename(columns=likes_columns)"
   ]
  },
  {
   "cell_type": "code",
   "execution_count": 58,
   "id": "d649f213",
   "metadata": {},
   "outputs": [
    {
     "data": {
      "text/plain": [
       "Index(['user_id', 'photo_id', 'created_at'], dtype='object')"
      ]
     },
     "execution_count": 58,
     "metadata": {},
     "output_type": "execute_result"
    }
   ],
   "source": [
    "likes.columns"
   ]
  },
  {
   "cell_type": "code",
   "execution_count": 59,
   "id": "9363c798",
   "metadata": {},
   "outputs": [],
   "source": [
    " # 1.\tphoto_id\n",
    "    # 2.\ttag_id"
   ]
  },
  {
   "cell_type": "code",
   "execution_count": 60,
   "id": "ec4d3b6e",
   "metadata": {},
   "outputs": [],
   "source": [
    "df=pd.read_csv(r\"C:\\Users\\Administrator\\Downloads\\photo_tags.csv\")"
   ]
  },
  {
   "cell_type": "code",
   "execution_count": 61,
   "id": "5bc3ac4d",
   "metadata": {},
   "outputs": [],
   "source": [
    "photo_tags=df"
   ]
  },
  {
   "cell_type": "code",
   "execution_count": 62,
   "id": "d44fcdfe",
   "metadata": {},
   "outputs": [
    {
     "data": {
      "text/plain": [
       "Index(['photo', 'tag ID', 'user id'], dtype='object')"
      ]
     },
     "execution_count": 62,
     "metadata": {},
     "output_type": "execute_result"
    }
   ],
   "source": [
    "photo_tags.columns"
   ]
  },
  {
   "cell_type": "code",
   "execution_count": 63,
   "id": "596416ec",
   "metadata": {},
   "outputs": [],
   "source": [
    "photo_tags=photo_tags.drop(['user id'],axis=1)\n"
   ]
  },
  {
   "cell_type": "code",
   "execution_count": 64,
   "id": "b5673c6a",
   "metadata": {},
   "outputs": [],
   "source": [
    "photo_columns={'photo':'photo_id','tag ID':'tag_id'}"
   ]
  },
  {
   "cell_type": "code",
   "execution_count": 65,
   "id": "12c58a61",
   "metadata": {},
   "outputs": [],
   "source": [
    "photo_tags=photo_tags.rename(columns=photo_columns)"
   ]
  },
  {
   "cell_type": "code",
   "execution_count": 66,
   "id": "a1fd7558",
   "metadata": {},
   "outputs": [],
   "source": [
    "df=pd.read_csv(r\"C:\\Users\\Administrator\\Downloads\\photos.csv\")"
   ]
  },
  {
   "cell_type": "code",
   "execution_count": 67,
   "id": "a1e06bf8",
   "metadata": {},
   "outputs": [],
   "source": [
    "photos=df"
   ]
  },
  {
   "cell_type": "code",
   "execution_count": 68,
   "id": "5752992e",
   "metadata": {},
   "outputs": [
    {
     "data": {
      "text/plain": [
       "Index(['id', 'image link', 'user ID', 'created dat', 'Insta filter used',\n",
       "       'photo type'],\n",
       "      dtype='object')"
      ]
     },
     "execution_count": 68,
     "metadata": {},
     "output_type": "execute_result"
    }
   ],
   "source": [
    "photos.columns"
   ]
  },
  {
   "cell_type": "code",
   "execution_count": 69,
   "id": "e0bc1b82",
   "metadata": {},
   "outputs": [],
   "source": [
    " # 1.\tid\n",
    "    # 2.\timage_url\n",
    "    # 3.\tuser_id\n",
    "    # 4.\tcreated_date"
   ]
  },
  {
   "cell_type": "code",
   "execution_count": 70,
   "id": "e5b4b956",
   "metadata": {},
   "outputs": [],
   "source": [
    "photos=photos.drop(['Insta filter used','photo type'],axis=1)"
   ]
  },
  {
   "cell_type": "code",
   "execution_count": 71,
   "id": "12689379",
   "metadata": {},
   "outputs": [],
   "source": [
    "photos_columns={'id':'id','image link':'image_url','user ID':'user_id','created dat':'created_date'}"
   ]
  },
  {
   "cell_type": "code",
   "execution_count": 72,
   "id": "113fb7fd",
   "metadata": {},
   "outputs": [],
   "source": [
    "photos=photos.rename(columns=photos_columns)"
   ]
  },
  {
   "cell_type": "code",
   "execution_count": 73,
   "id": "237f0acd",
   "metadata": {},
   "outputs": [],
   "source": [
    "   # 1.\tid # 2.\ttag_name# 3.\tcreated_at.csv\"\n",
    "df=pd.read_csv(r\"C:\\Users\\Administrator\\Downloads\\tags.csv\")"
   ]
  },
  {
   "cell_type": "code",
   "execution_count": 74,
   "id": "52ab3db0",
   "metadata": {},
   "outputs": [],
   "source": [
    "tags=df"
   ]
  },
  {
   "cell_type": "code",
   "execution_count": 75,
   "id": "69eb1339",
   "metadata": {},
   "outputs": [
    {
     "data": {
      "text/plain": [
       "Index(['id', 'tag text', 'created time', 'location'], dtype='object')"
      ]
     },
     "execution_count": 75,
     "metadata": {},
     "output_type": "execute_result"
    }
   ],
   "source": [
    "tags.columns"
   ]
  },
  {
   "cell_type": "code",
   "execution_count": 76,
   "id": "4619bc1f",
   "metadata": {},
   "outputs": [],
   "source": [
    "tags=tags.drop(['location'],axis=1)"
   ]
  },
  {
   "cell_type": "code",
   "execution_count": 77,
   "id": "54f33eec",
   "metadata": {},
   "outputs": [],
   "source": [
    "tags_columns={'id':'id','tag text':'tag_name','created time':'created_at'}"
   ]
  },
  {
   "cell_type": "code",
   "execution_count": 78,
   "id": "16fbece7",
   "metadata": {},
   "outputs": [],
   "source": [
    "tags=tags.rename(columns=tags_columns)"
   ]
  },
  {
   "cell_type": "code",
   "execution_count": 79,
   "id": "169b2f84",
   "metadata": {},
   "outputs": [],
   "source": [
    " # 1.\tid# 2.\tusername# 3.\tcreated_at\n",
    "df=pd.read_csv(r\"C:\\Users\\Administrator\\Downloads\\users.csv\")"
   ]
  },
  {
   "cell_type": "code",
   "execution_count": 80,
   "id": "0236e74d",
   "metadata": {},
   "outputs": [],
   "source": [
    "users=df"
   ]
  },
  {
   "cell_type": "code",
   "execution_count": 81,
   "id": "1f4a17d9",
   "metadata": {},
   "outputs": [
    {
     "data": {
      "text/plain": [
       "Index(['id', 'name', 'created time', 'private/public', 'post count',\n",
       "       'Verified status'],\n",
       "      dtype='object')"
      ]
     },
     "execution_count": 81,
     "metadata": {},
     "output_type": "execute_result"
    }
   ],
   "source": [
    "users.columns"
   ]
  },
  {
   "cell_type": "code",
   "execution_count": 82,
   "id": "843a9420",
   "metadata": {},
   "outputs": [],
   "source": [
    "users=users.drop(['private/public','post count','Verified status'],axis=1)"
   ]
  },
  {
   "cell_type": "code",
   "execution_count": 83,
   "id": "4d4ff775",
   "metadata": {},
   "outputs": [],
   "source": [
    "users_columns={'id':'id','name':'username','created time':'created_at'}"
   ]
  },
  {
   "cell_type": "code",
   "execution_count": 84,
   "id": "0a38ef04",
   "metadata": {},
   "outputs": [],
   "source": [
    "users=users.rename(columns=users_columns)"
   ]
  },
  {
   "cell_type": "code",
   "execution_count": 85,
   "id": "ffe4f9c7",
   "metadata": {},
   "outputs": [
    {
     "name": "stdout",
     "output_type": "stream",
     "text": [
      "[2, 3, 4, 5]\n"
     ]
    }
   ],
   "source": [
    "l = [2, 3, [4], [[5]]]\n",
    "output = []\n",
    "\n",
    "for i in l:\n",
    "    if type(i) == list:\n",
    "        for j in i:\n",
    "            if type(j) == list:\n",
    "                for z in j:\n",
    "                    output.append(z)\n",
    "            else:\n",
    "                output.append(j)\n",
    "    else:\n",
    "        output.append(i)\n",
    "\n",
    "print(output)\n",
    "\n"
   ]
  },
  {
   "cell_type": "code",
   "execution_count": 86,
   "id": "e17a5aef",
   "metadata": {},
   "outputs": [
    {
     "name": "stdout",
     "output_type": "stream",
     "text": [
      "[2, 3, 4, 5, [8], [8], [6]]\n"
     ]
    }
   ],
   "source": [
    "output=[]\n",
    "l=[2,3,[4],[[5,[8],[8],[6]]]]\n",
    "for  i in l:\n",
    "    if type(i)==list:\n",
    "        for j in i:\n",
    "            if type(j)==list:\n",
    "                for z in j:\n",
    "                    output.append(z)\n",
    "            else:\n",
    "                output.append(j)\n",
    "    else:\n",
    "        output.append(i)\n",
    "print(output)"
   ]
  },
  {
   "cell_type": "code",
   "execution_count": 87,
   "id": "a87fb14e",
   "metadata": {},
   "outputs": [],
   "source": [
    "output=[]\n",
    "l=[2,3,[4],[[5],[6]]]\n",
    "for i in l:\n",
    "    if type(i)==list:\n",
    "        for j in i:\n",
    "            if type(j)==list:\n",
    "                for z in j:\n",
    "                    output.append(z) \n",
    "                    \n",
    "            else:\n",
    "                output.append(j)\n",
    "    else:\n",
    "        output.append(i)"
   ]
  },
  {
   "cell_type": "code",
   "execution_count": null,
   "id": "36be4e89",
   "metadata": {},
   "outputs": [],
   "source": []
  },
  {
   "cell_type": "code",
   "execution_count": null,
   "id": "edce02dd",
   "metadata": {},
   "outputs": [],
   "source": []
  },
  {
   "cell_type": "code",
   "execution_count": 88,
   "id": "d2bf61c5",
   "metadata": {},
   "outputs": [
    {
     "name": "stdout",
     "output_type": "stream",
     "text": [
      "[2, 3, 4, 5, 6, 7, 8, [[5]]]\n"
     ]
    }
   ],
   "source": [
    "l=[2,3,[4],[[5],[6,7],8],[[[[5]]]]]  # output 2,3,4,5\n",
    "output=[]\n",
    "for item in l:\n",
    "    if type(item)==list:\n",
    "        for nested_item in item:\n",
    "            if type(nested_item)==list:\n",
    "                for sub_nest_item in nested_item:\n",
    "                    output.append(sub_nest_item)\n",
    "            else:\n",
    "                output.append(nested_item)\n",
    "    else:\n",
    "        output.append(item)\n",
    "print(output)"
   ]
  },
  {
   "cell_type": "code",
   "execution_count": 89,
   "id": "52fef5dc",
   "metadata": {},
   "outputs": [
    {
     "name": "stdout",
     "output_type": "stream",
     "text": [
      "[2, 3, 4, 5, 8, 8, 6, 8, 6]\n"
     ]
    }
   ],
   "source": [
    "output = []\n",
    "l = [2, 3, [4], [[5, [8],[[8]],[[[6]]] ,[8], [6]]]]\n",
    "\n",
    "def flatten_list(l):\n",
    "    for item in l:\n",
    "        if isinstance(item, list):\n",
    "            flatten_list(item)\n",
    "        else:\n",
    "            output.append(item)\n",
    "\n",
    "flatten_list(l)\n",
    "print(output)\n"
   ]
  },
  {
   "cell_type": "code",
   "execution_count": 90,
   "id": "80aa63a3",
   "metadata": {},
   "outputs": [
    {
     "name": "stdout",
     "output_type": "stream",
     "text": [
      "[2, 3, 4, 5, 8, 8, 6, 8, 6]\n"
     ]
    }
   ],
   "source": [
    "output = []\n",
    "l = [2, 3, [4], [[5, [8],[[8]],[[[6]]] ,[8], [6]]]]\n",
    "def flatten_list(l):\n",
    "    for i in l:\n",
    "        if isinstance(i,list):\n",
    "            flatten_list(i)\n",
    "        else:\n",
    "            output.append(i)\n",
    "flatten_list(l)\n",
    "print(output)\n",
    "        "
   ]
  },
  {
   "cell_type": "code",
   "execution_count": null,
   "id": "fd053564",
   "metadata": {},
   "outputs": [],
   "source": []
  },
  {
   "cell_type": "code",
   "execution_count": null,
   "id": "a80c2f6d",
   "metadata": {},
   "outputs": [],
   "source": []
  },
  {
   "cell_type": "code",
   "execution_count": null,
   "id": "69ac00fa",
   "metadata": {},
   "outputs": [],
   "source": []
  }
 ],
 "metadata": {
  "kernelspec": {
   "display_name": "Python 3 (ipykernel)",
   "language": "python",
   "name": "python3"
  },
  "language_info": {
   "codemirror_mode": {
    "name": "ipython",
    "version": 3
   },
   "file_extension": ".py",
   "mimetype": "text/x-python",
   "name": "python",
   "nbconvert_exporter": "python",
   "pygments_lexer": "ipython3",
   "version": "3.10.9"
  }
 },
 "nbformat": 4,
 "nbformat_minor": 5
}
